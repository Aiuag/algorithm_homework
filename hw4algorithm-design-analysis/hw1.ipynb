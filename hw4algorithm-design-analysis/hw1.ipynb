{
 "cells": [
  {
   "cell_type": "markdown",
   "metadata": {},
   "source": [
    "## algorithm design and anlysis-2025 spring  homework 1 \n",
    "**Deadline**：2025.5.14\n",
    "\n",
    "**name**:\n",
    "\n",
    "\n",
    "note：\n",
    "---\n",
    "1. 带有\\*的题目，申请免上课的同学，必须完成，其他同学选作；\n",
    "2. 请独立完成，如求助了他人或者大模型，请著明，并且不可省略算法分析部分；\n",
    "4. 如若作答有雷同，全部取消成绩；\n",
    "3. 需要书面作答的题目，可以通过引用图片的形式添加，但是注意上传项目时包含所引用的图片的源文件；\n",
    "4. $log_n$ 默认表示$log_2{n}$;"
   ]
  },
  {
   "cell_type": "markdown",
   "metadata": {},
   "source": [
    "## 问题 1\n",
    "\n",
    "对于下面的每一对表达式(A, B), A是否能表示为B的 $\\Theta, \\Omega ,O$形式. 请注意, 这些关系中的零个、一个或多个可能成立。列出所有正确的。经常发生一些学生会,把指示写错, 所以请把关系写完整, 例如: $A = O(B),  A =\\Theta(B)$, 或$A = \\Omega(B)$。\n",
    "\n",
    "1. $A=n^2-100n, B=n^2$\n",
    "2. $A=logn, B=log_{1.2}n$\n",
    "3. $A=3^{2n}, B=2^{4n}$\n",
    "4. $A=2^{logn}, B=n$\n",
    "5. $A=\\log{\\log}{n},B=10^{10^{100}}$"
   ]
  },
  {
   "cell_type": "markdown",
   "metadata": {},
   "source": [
    "can refer a handwritten picture, pleas upload the picture in /fig/xxx.png\n",
    "answer:\n",
    "<div align=\"center\"> <img alt=\"图片\" src=\"./fig/hw1q1-answer.png\" width=\"550\" height=\"250\"> </div>"
   ]
  },
  {
   "cell_type": "markdown",
   "metadata": {},
   "source": [
    "## 问题 2：\n",
    "\n",
    "假设有函数 $f$ 和 $g$ 使得 $f(n)$ = $O(g(n))$ 对于下面的每一个陈述, 请判断对错, 如果正确请给出证明, 否则请给出一个反例。\n",
    "\n",
    "1. $\\log{f(n)}$ = $O(\\log(1+g(n)))$\n",
    "2. $3^{f(n)}=O(3^{g(n)})$\n",
    "3. $(f(n))^2=O((g(n))^2)$ "
   ]
  },
  {
   "cell_type": "markdown",
   "metadata": {},
   "source": [
    "you can refer a handwritten picture, pleas upload the picture in /fig/xxx.png\n",
    "answer:\n",
    "<div align=\"center\"> <img alt=\"图片\" src=\"./fig/hw1q2-answer.png\" width=\"550\" height=\"750\"> </div>\n"
   ]
  },
  {
   "cell_type": "markdown",
   "metadata": {},
   "source": [
    "## 问题 3\n",
    "\n",
    "根据下列递归公式, 计算下列 $T(n)$ 对应的的渐近上界。要求所求的边界尽可能的紧（tight）, 请写明步骤。\n",
    "\n",
    "1. $T(1)=1; T(n)=T(n/4)+1$ for $n>1$\n",
    "2. $T(1)=1;T(n)=3T(n/3)+n^2$ for $n>1$\n",
    "3. $T(1)=1;T(n)=T(2n/3)+1$ for $n>1$\n",
    "4. $T(1)=1;T(n)=5T(n/4)+n$ for $n>1$\n",
    "5. $T(n)=1 \\ for\\ n \\le 2 ; T(n)=T(\\sqrt{n})+1 \\ for \\ n>2$"
   ]
  },
  {
   "cell_type": "markdown",
   "metadata": {},
   "source": [
    "can refer a handwritten picture, pleas upload the picture in /fig/xxx.png\n",
    "answer:\n",
    "<div align=\"center\"> <img alt=\"图片\" src=\"./fig/hw1q3-answer1.png\" width=\"600\" height=\"750\"> \n",
    "<img alt=\"图片\" src=\"./fig/hw1q3-answer2.png\" width=\"600\" height=\"750\">\n",
    "</div>"
   ]
  },
  {
   "cell_type": "markdown",
   "metadata": {},
   "source": [
    "## 问题 4：\n",
    "\n",
    "给定一个包含n个元素的数组 `profits` , 它的第 `i` 个元素 `profits[i]` 表示一支股票第 `i` 天的**收益**（正数表示涨, 负数表示跌）。你只能选择 **某一天** 买入这只股票, 并选择在 **未来的某一个不同的日子** 卖出该股票。\n",
    "\n",
    "1. 设计一个算法来计算你所能获取的最大利润和对应买入和卖出的日期。请分析算法方案, 计算其时间复杂度, 并且使用python编程实现该算法。\n",
    "\n",
    "2. \\* 设计一个时间复杂度为 $O(n)$的算法实现该算法\n",
    "\n",
    "e.g. :\n",
    "---\n",
    "profits=[3,2,1,-7,5,2,-1,3,-1], 第5天买入, 第8天卖出, 收益最大：9\n",
    "\n"
   ]
  },
  {
   "cell_type": "markdown",
   "metadata": {},
   "source": [
    "idea:\n",
    "此题是求出profits数组中的最大子序列，最大子序列的总和即为最大利润，最大子序列的首位在profits数组中的位置是买入日期，最大子序列的末尾在profits数组中的位置是卖出日期。\n",
    "用暴力法求出所有子序列的总和，从中找到最大值，并记录相应的首尾对应的坐标。\n",
    "\n",
    "the algorithm time complexity is : $O(n^2)$"
   ]
  },
  {
   "cell_type": "code",
   "execution_count": 4,
   "metadata": {},
   "outputs": [
    {
     "name": "stdout",
     "output_type": "stream",
     "text": [
      "第5天买入,第8天卖出,收益最大：9\n"
     ]
    }
   ],
   "source": [
    "# add your code here\n",
    "profits = [3,2,1,-7,5,2,-1,3,-1]\n",
    "# 记录最大利益的买入股票日期：in_day\n",
    "# 记录最大利益的卖出股票日期：out_day\n",
    "# in_day <= out_day\n",
    "in_day = 0\n",
    "out_day = 0\n",
    "max_profit = float('-inf') # 初始化max_profit为负无穷大\n",
    "#暴力法\n",
    "for i in range(len(profits)):\n",
    "    sum_profit = 0 # 记录从第i天买入股票到第j天卖出股票的利润\n",
    "    for j in range(i, len(profits)):\n",
    "        sum_profit += profits[j]\n",
    "        if sum_profit > max_profit:\n",
    "            max_profit = sum_profit\n",
    "            in_day = i + 1\n",
    "            out_day = j + 1\n",
    "print(\"第\" + str(in_day) + \"天买入,\"\"第\" + str(out_day) + \"天卖出,\" \"收益最大：\" + str(max_profit))"
   ]
  },
  {
   "cell_type": "markdown",
   "metadata": {},
   "source": [
    "idea for 2\\*：要求时间复杂度为O(n)，则可以采用动态规划。\n",
    "\n",
    "用dp数组存储每天卖出股票可以得到的最大利润，如果当天的利润加上前一天的最大利润大于当天的利润，说明目前没有亏损，反之则说明前一天有亏损，买入股票日期需要换至当天，当天的最大利润也换成当天利润（状态转移）；\n",
    "\n",
    "在计算每天卖出股票得到的最大利润时，如果当天的最大利润大于目前最大的利润值，则将这天作为卖出股票日期。\n"
   ]
  },
  {
   "cell_type": "code",
   "execution_count": 2,
   "metadata": {},
   "outputs": [
    {
     "name": "stdout",
     "output_type": "stream",
     "text": [
      "第5天买入,第8天卖出,收益最大：9\n"
     ]
    }
   ],
   "source": [
    "# an algorithm with O(n)\n",
    "profits = [3,2,1,-7,5,2,-1,3,-1]\n",
    "# 记录最大利益的买入股票日期：in_day\n",
    "# 记录最大利益的卖出股票日期：out_day\n",
    "# in_day <= out_day\n",
    "in_day = 0\n",
    "out_day = 0\n",
    "max_profit = float('-inf') # 初始化max_profit为负无穷大\n",
    "\n",
    "#动态规划\n",
    "dp = [0]*len(profits) # dp[i]表示第i天卖出股票的最大利润\n",
    "dp[0] = profits[0]\n",
    "for i in range(1, len(profits)):\n",
    "    if dp[i-1] + profits[i] > profits[i]:\n",
    "        dp[i] = dp[i-1] + profits[i]\n",
    "    else:\n",
    "        dp[i] = profits[i]\n",
    "        in_day = i + 1\n",
    "    if dp[i] > max_profit:\n",
    "        max_profit = dp[i]\n",
    "        out_day = i + 1\n",
    "\n",
    "print(\"第\" + str(in_day) + \"天买入,\"\"第\" + str(out_day) + \"天卖出,\" \"收益最大：\" + str(max_profit))"
   ]
  },
  {
   "cell_type": "markdown",
   "metadata": {},
   "source": [
    "## 问题 5：\n",
    "\n",
    "观察下方的分治算法（divide-and-conquer algorithm）的伪代码, 回答下面问题\n",
    "\n",
    "```latex\n",
    "DoSomething(A,p,r)\n",
    "-----\n",
    "n := r-p+1\n",
    "if n=2 and A[p]>A[r] then\n",
    "    swap A[p] and A[r]\n",
    "else if n >= 3 then\n",
    "    m = ceil(2n/3)\n",
    "    DoSomething(A,p,p+m-1)\n",
    "    DoSomething(A,r-m+1,r)\n",
    "    DoSomething(A,p,p+m-1)  \n",
    "    \n",
    "---\n",
    "first call: DoSomething(A,1,n)\n",
    "```\n",
    "\n",
    "note：$ceil(2n/3)=\\left\\lceil {2n/3} \\right\\rceil$；$:=$ 表示赋值, 等价于 $\\to$；A是一个包含n的整数元素的数组, \n",
    "\n",
    "1. 写出该算法时间复杂度的递归公式, 并求解其对应的渐进表示\n",
    "2. 描述一下该算法的功能, 并判断是否是最高效的解决方案\n",
    "3. 使用python编程实现上述算法或其对应的更高效版本的算法\n"
   ]
  },
  {
   "cell_type": "markdown",
   "metadata": {},
   "source": [
    "idea："
   ]
  },
  {
   "cell_type": "markdown",
   "metadata": {},
   "source": [
    "answer:\n",
    "\n",
    "1. 递归公式：$T(n)=1 \\ for\\ n \\le 2 ; T(n)=3T(ceil(2(n-1)/3)) + \\Theta (1) \\ for\\ n>2 $，根据主定理，$T(n)=\\Theta (n^{log3/log(3/2)})$。\n",
    "\n",
    "2. 该算法在长度为n的数组A中，依次对前$ceil(2n/3)$、后$ceil(2n/3)$分别分治法进行升序排序，再对排序后的前$ceil(2n/3)$进行分治升序排序，最后获得完整的升序数组。该算法并非是最高效的解决方案。\n",
    "\n",
    "3. 更高效的解决方案可以采用归并排序算法，取中值进行分治排序合并，得到的时间复杂度是$T(n) = \\Theta (nlogn)$。\n",
    "\n"
   ]
  },
  {
   "cell_type": "code",
   "execution_count": 31,
   "metadata": {},
   "outputs": [
    {
     "name": "stdout",
     "output_type": "stream",
     "text": [
      "[-7, -6, -1, 0, 1, 2, 3, 4, 5, 8]\n"
     ]
    }
   ],
   "source": [
    "# add your code here\n",
    "import math\n",
    "# 归并操作\n",
    "def merge(A, left, mid, right):\n",
    "    n1 = mid - left + 1\n",
    "    n2 = right - mid\n",
    "\n",
    "    # 设置左半区和右半区\n",
    "    L = [0] * n1\n",
    "    R = [0] * n2\n",
    "\n",
    "    # 拷贝数据到临时数组 L[] 和 R[]\n",
    "    for i in range(n1):\n",
    "        L[i] = A[left + i]\n",
    "    for j in range(n2):\n",
    "        R[j] = A[mid + 1 + j]\n",
    "    \n",
    "    # 添加极大数在数组尾部作为看门狗\n",
    "    L.append(float('inf'))\n",
    "    R.append(float('inf'))\n",
    "\n",
    "    # 归并临时数组到A[left..right]\n",
    "    i, j, k = 0, 0, left\n",
    "    while k<=right:\n",
    "        if L[i] <= R[j]:\n",
    "            A[k] = L[i]\n",
    "            i += 1\n",
    "        else:\n",
    "            A[k] = R[j]\n",
    "            j += 1\n",
    "        k += 1\n",
    "\n",
    "def merge_sort(A, left, right):\n",
    "    if left < right:\n",
    "        mid = (left + right) // 2\n",
    "        merge_sort(A, left, mid)\n",
    "        merge_sort(A, mid + 1, right)\n",
    "        merge(A, left, mid, right)\n",
    "\n",
    "A = [3,1,-7,5,2,-1,4,-6,8,0]\n",
    "merge_sort(A, 0, len(A) - 1)\n",
    "print(A)\n",
    "\n",
    "# your algorithm time complexity is :θ(nlogn)"
   ]
  },
  {
   "cell_type": "markdown",
   "metadata": {},
   "source": [
    "## 问题 6：\n",
    "\n",
    "给定一个大小为 `n` 的数组 `nums` , 返回其中的多数元素。多数元素是指在数组中出现次数 **大于** `⌊ n/2 ⌋` 的元素。\n",
    "\n",
    "你可以假设数组是非空的, 并且给定的数组总是存在多数元素。\n",
    "\n",
    "1. 设计一个算法找到给定数组的多数元素, 分析算法设计思路, 计算算法时间复杂度, 使用python编程实现\n",
    "2. \\* 设计时间复杂度为 O(n)、空间复杂度为 O(1) 的算法解决此问题, 分析算法设计思路, 使用python编程实现\n",
    "\n",
    "e.g.:\n",
    "---\n",
    "1. nums=[3,2,3], 返回3\n",
    "2. nums=[2,2,1,1,1,2,2], 返回2\n"
   ]
  },
  {
   "cell_type": "markdown",
   "metadata": {},
   "source": [
    "idea：在假设数组是非空的, 并且给定的数组总是存在多数元素的条件下，根据多数元素的含义可以推出每种数组中的多数元素有且仅有一个。\n",
    "\n",
    "构建哈希表来统计数组中每种元素出现的次数，即哈希表中的key设为元素值，value设为元素值出现的次数。\n",
    "\n",
    "当遍历数组中新的元素时加入哈希表并将其对应的value设置为1；\n",
    "\n",
    "当遍历数组中重复出现的元素时哈希表中该元素对应的value值+1，并判断当前该值是否大于数组nums的一半长度，若大于，由于唯一性直接返回该元素，反之继续遍历数组。"
   ]
  },
  {
   "cell_type": "code",
   "execution_count": 23,
   "metadata": {},
   "outputs": [
    {
     "name": "stdout",
     "output_type": "stream",
     "text": [
      "3\n",
      "2\n"
     ]
    }
   ],
   "source": [
    "# add your code here\n",
    "def most_elements(nums):\n",
    "    \"\"\"\n",
    "    假设数组是非空的, 并且给定的数组总是存在多数元素。\n",
    "    \"\"\"\n",
    "    #构建哈希表\n",
    "    hash_map = {}\n",
    "    #设置最大出现次数必须大于数组nums长度的一半\n",
    "    max_count = len(nums) // 2\n",
    "    #用哈希表统计数组nums中每种元素出现的次数\n",
    "    for i in range(len(nums)):\n",
    "        if nums[i] in hash_map:\n",
    "            hash_map[nums[i]] += 1\n",
    "            if hash_map[nums[i]] > max_count:\n",
    "                return nums[i]\n",
    "        else:\n",
    "            hash_map[nums[i]] = 1\n",
    "    return None\n",
    "\n",
    "if __name__ == '__main__':\n",
    "    nums1 = [3,2,3]\n",
    "    print(most_elements(nums1))\n",
    "    nums2 = [2,2,1,1,1,2,2]\n",
    "    print(most_elements(nums2))\n",
    "# your algorithm time complexity is :O(n)"
   ]
  },
  {
   "cell_type": "markdown",
   "metadata": {},
   "source": [
    "idea for 2\\*：在要求时间复杂度为O(n)，空间复杂度为O(1)的情况下找寻多数元素（借助了大模型查询摩尔投票算法）。\n",
    "\n",
    "用count统计candidate出现的次数，当count为0时（刚开始投票或者投票选择和不选择的结果刚好抵消的时候），设置candidate为当前遍历的值，\n",
    "\n",
    "若当前遍历的值与candidate相同则count+1，反之count-1，结合多数元素的定义，即出现次数大于一半的数组长度的元素，可以得出多数元素出现次数一定会抵消其余元素出现次数，最终candidate一定是多数元素。\n",
    "\n"
   ]
  },
  {
   "cell_type": "code",
   "execution_count": null,
   "metadata": {},
   "outputs": [
    {
     "name": "stdout",
     "output_type": "stream",
     "text": [
      "3\n",
      "2\n"
     ]
    }
   ],
   "source": [
    "# algorithm time complexity：O(n), space complexity:O(1)\n",
    "def most_elements_1(nums):\n",
    "    \"\"\"\n",
    "    假设数组是非空的, 并且给定的数组总是存在多数元素。\n",
    "    \"\"\"\n",
    "    #用count统计candidate出现的次数\n",
    "    count = 0\n",
    "    candidate = None\n",
    "    #遍历数组nums\n",
    "    for i in range(len(nums)):\n",
    "        if count == 0:\n",
    "            candidate = nums[i]\n",
    "        if nums[i] == candidate:\n",
    "            count += 1 \n",
    "        else:\n",
    "            count -= 1\n",
    "    return candidate\n",
    "\n",
    "if __name__ == '__main__':\n",
    "    nums1 = [3,2,3]\n",
    "    print(most_elements_1(nums1))\n",
    "    nums2 = [2,2,1,1,1,2,2]\n",
    "    print(most_elements_1(nums2))\n",
    "# add your code here"
   ]
  },
  {
   "cell_type": "markdown",
   "metadata": {},
   "source": [
    "## 问题 7：\n",
    "\n",
    "给定一个包含不同整数元素的数组 $ A[1..n]$ ,并且满足条件：$A[1]>A[2]$ 并且 $A[n-1]<A[n]$; 规定：如果一个元素比它两边的邻居元素都小, 即：$A[x]<A[x-1], A[x]<A[x+1]$ , 称这个元素A[x]为“局部最小”。通过遍历一次数组, 我们可以很容易在 $O(n)$的时间复杂度下找到一个局部最小值, \n",
    "\n",
    "\n",
    "1. 分析该问题, 设计一个算法在$O(logn)$的时间复杂度下找到一个局部最小(返回数值), 要求：分析算法设计思路, 并且使用python编程实现\n",
    "2. \\* 设计算法找出所有局部最小值, 分析算法设计思路, 并使用python编程实现\n",
    "\n",
    "e.g.:\n",
    "---\n",
    "A=[9, 3, 7, 2, 1, 4, 5 ] 时,  局部最小元素为 3, 1\n"
   ]
  },
  {
   "cell_type": "markdown",
   "metadata": {},
   "source": [
    "idea：要求用时间复杂度为O(logn)来找到局部最小值，则可以用二分查找法。\n",
    "\n",
    "设置数组的左边界left，右边界right，中间位mid为left和right的中值；\n",
    "\n",
    "当中间位mid对应的值比其右边值高时，左边界left设置为当前mid，局部最小值就在右半区(mid,right)中寻找；\n",
    "\n",
    "当中间位mid对应的值比其左边值高时，右边界right设置为当前mid，局部最小值就在左半区(left,mid)中寻找；\n",
    "\n",
    "当中间位mid对应的值刚好是局部最小值时直接返回该值。"
   ]
  },
  {
   "cell_type": "code",
   "execution_count": null,
   "metadata": {},
   "outputs": [
    {
     "name": "stdout",
     "output_type": "stream",
     "text": [
      "1\n"
     ]
    }
   ],
   "source": [
    "# add your code here\n",
    "def local_minimun(nums):\n",
    "    left = 0\n",
    "    right = len(nums) - 1\n",
    "    #二分查找\n",
    "    while left < right:\n",
    "        mid = (right + left) // 2\n",
    "        if nums[mid] > nums[mid + 1]:\n",
    "            left = mid\n",
    "        if nums[mid] > nums[mid - 1]:\n",
    "            right = mid\n",
    "        if nums[mid] < nums[mid + 1] and nums[mid] < nums[mid - 1]:\n",
    "            return nums[mid]\n",
    "    return None\n",
    "\n",
    "if __name__ == '__main__':\n",
    "    nums = [9,3,7,2,1,4,5]\n",
    "    print(local_minimun(nums))\n",
    "\n",
    "# your algorithm time complexity is :O(logn)"
   ]
  },
  {
   "cell_type": "markdown",
   "metadata": {},
   "source": [
    "idea for 2\\*:找寻所有局部最小值，需要遍历数组中间的元素（按照下标即[1,len(nums)-1]）。\n",
    "先设置用于存放局部最小值的空列表res_list；\n",
    "\n",
    "从数组第2位开始判断是否为局部最小值，若是局部最小值，则将结果存放在res_list，并且跳过下一个位（即i+2），因为紧挨局部最小值的前后一定不是局部最小值；\n",
    "\n",
    "最后返回列表res_list。"
   ]
  },
  {
   "cell_type": "code",
   "execution_count": 1,
   "metadata": {},
   "outputs": [
    {
     "name": "stdout",
     "output_type": "stream",
     "text": [
      "[3, 1]\n"
     ]
    }
   ],
   "source": [
    "# add your code here\n",
    "def local_minimun_1(nums):\n",
    "    res_list = []\n",
    "    for i in range(1, len(nums) - 1):\n",
    "        if nums[i] < nums[i - 1] and nums[i] < nums[i + 1]:\n",
    "            res_list.append(nums[i])\n",
    "            i += 2\n",
    "    return res_list\n",
    "\n",
    "if __name__ == '__main__':\n",
    "    nums = [9,3,7,2,1,4,5]\n",
    "    print(local_minimun_1(nums))\n",
    "# your algorithm time complexity is :O(n)"
   ]
  },
  {
   "cell_type": "markdown",
   "metadata": {},
   "source": [
    "## 问题 8：\n",
    "\n",
    "给定包含n个不同数字的一组数, 寻找一种基于比较的算法在这组数中找到k个最小的数字, 并按顺序输出它们。\n",
    "\n",
    "1. 将n个数先进行排序, 然后按顺序输出最小的k个数。要求：选择合适的排序算法实现上述操作, 计算算法时间复杂度, 并使用python编程实现。\n",
    "2. 建立一个包含这n个数的堆（heap）, 并且调用 k 次Extract-min 按顺序输出最小的k个数。使用往空堆中不断插入元素的方法建立堆, 分析这种方法建堆的时间复杂度, 并使用python编程实现\n",
    "3. \\* 假设数组中包含的数据总数目超过了计算机的存储能力, 请设计一个算法, 找到这堆数据的前k小的数值, 计算时间复杂度, 并使用python实现该算法, 假设计算机一定能存储k个数据。\n",
    "\n",
    "e.g.：\n",
    "---\n",
    "数组arr=[5,4,3,2,6,1,88,33,22,107] 的前3个最小数据为：1, 2, 3\n"
   ]
  },
  {
   "cell_type": "markdown",
   "metadata": {},
   "source": [
    "idea：采用冒泡排序，将数组按照从小到大的顺序排，并输出前k个数即是最小的k个数。"
   ]
  },
  {
   "cell_type": "code",
   "execution_count": null,
   "metadata": {},
   "outputs": [
    {
     "name": "stdout",
     "output_type": "stream",
     "text": [
      "1,2,3\n"
     ]
    }
   ],
   "source": [
    "# add your code here\n",
    "def swap(a,b):\n",
    "    return b,a\n",
    "\n",
    "def bubble_sort(nums):\n",
    "    for i in range(len(nums)):\n",
    "        for j in range(len(nums) - i - 1):\n",
    "            if nums[j] > nums[j + 1]:\n",
    "                nums[j], nums[j + 1] = swap(nums[j], nums[j + 1])\n",
    "    return nums\n",
    "\n",
    "def k_minimun(nums, k):\n",
    "    nums = bubble_sort(nums)\n",
    "    for i in range(k):\n",
    "        if i< k - 1:\n",
    "            print(nums[i], end = \",\")\n",
    "        else:\n",
    "            print(nums[i])\n",
    "            \n",
    "if __name__ == '__main__':\n",
    "    nums = [5,4,3,2,6,1,88,33,22,107]\n",
    "    k_minimun(nums, 3)\n",
    "# your algorithm time complexity is :O(n^2)"
   ]
  },
  {
   "cell_type": "markdown",
   "metadata": {},
   "source": [
    "idea for 2:堆排序\n",
    "构建空堆heap，每往heap插入一个nums的元素的时间复杂度为$O(logn)$，将nums所有元素进行堆排序的时间复杂度为$O(nlogn)$;\n",
    "\n",
    "堆排序结束后，要输出k个最小值，可以从堆中依次弹出前k个值。"
   ]
  },
  {
   "cell_type": "code",
   "execution_count": null,
   "metadata": {},
   "outputs": [
    {
     "name": "stdout",
     "output_type": "stream",
     "text": [
      "1,2,3\n"
     ]
    }
   ],
   "source": [
    "# add your code here\n",
    "import heapq\n",
    "\n",
    "def k_minimun_heap1(nums, k):\n",
    "    #构建空堆\n",
    "    heap = []\n",
    "    #将nums中的元素插入堆中\n",
    "    for i in range(len(nums)): #O(nlogn)\n",
    "        heapq.heappush(heap, nums[i]) #O(logn)\n",
    "    #输出堆中的前k个元素\n",
    "    for i in range(k): #O(klogn)\n",
    "        if i < k - 1:\n",
    "            print(heapq.heappop(heap), end = \",\") #O(logn)\n",
    "        else:\n",
    "            print(heapq.heappop(heap)) \n",
    "if __name__ == '__main__':\n",
    "    nums = [5,4,3,2,6,1,88,33,22,107]\n",
    "    k_minimun_heap1(nums, 3)\n",
    "# your algorithm time complexity is :O(nlogn)"
   ]
  },
  {
   "cell_type": "markdown",
   "metadata": {},
   "source": [
    "idea for 3(0)\\*:\n",
    "\n",
    "先将nums前k个元素插入堆中，这步的时间复杂度为$O(klogk)$;\n",
    "\n",
    "第k+1个元素与堆中的最大值比大小,寻找最大值的时间复杂度为$O(k)$,若第k+1个元素小于堆中的最大值，则将最大值与堆顶交换，并弹出最大值；\n",
    "\n",
    "再将第k+1个元素插入堆中，这步的时间复杂度为$O(logk)$，后续元素与第k+1个元素同样操作。\n",
    "\n",
    "这种算法的时间复杂度是$O(nk + nlogk + klogn) = O(nk)$"
   ]
  },
  {
   "cell_type": "code",
   "execution_count": null,
   "metadata": {},
   "outputs": [
    {
     "name": "stdout",
     "output_type": "stream",
     "text": [
      "[5]\n",
      "[4, 5]\n",
      "[3, 5, 4]\n",
      "1,2,3\n"
     ]
    }
   ],
   "source": [
    "# add your code here\n",
    "import heapq\n",
    "def k_minimun_heap2(nums, k):\n",
    "    #构建空堆\n",
    "    heap = []\n",
    "    #将nums中的元素插入堆中\n",
    "    for num in nums: \n",
    "        if len(heap) < k:\n",
    "            heapq.heappush(heap, num) #O(logk)\n",
    "            print(heap)\n",
    "        else:\n",
    "            if num < heap[k - 1]:\n",
    "                max_idx = heap.index(max(heap)) #O(k)\n",
    "                heap[0],heap[max_idx] = heap[max_idx],heap[0]\n",
    "                \n",
    "                heapq.heappop(heap) #O(logk)\n",
    "                heapq.heappush(heap, num) #O(logk)\n",
    "    #输出堆中的前k个元素\n",
    "    for i in range(k): #O(klogn)\n",
    "        if i < k - 1:\n",
    "            print(heapq.heappop(heap), end = \",\") #O(logn)\n",
    "        else:\n",
    "            print(heapq.heappop(heap))\n",
    "\n",
    "if __name__ == '__main__':\n",
    "    nums = [5,4,3,2,6,1,88,33,22,107]\n",
    "    k_minimun_heap2(nums, 3)\n",
    "# your algorithm time complexity is :O(nk)"
   ]
  },
  {
   "cell_type": "markdown",
   "metadata": {},
   "source": [
    "idea for 3(1)\\*:用相反数创建最大堆来找k个最小值\n"
   ]
  },
  {
   "cell_type": "code",
   "execution_count": 1,
   "metadata": {},
   "outputs": [
    {
     "name": "stdout",
     "output_type": "stream",
     "text": [
      "1,2,3\n"
     ]
    }
   ],
   "source": [
    "# add your code here\n",
    "import heapq#heapd只有最小堆\n",
    "from numpy import sort \n",
    "\n",
    "def k_minimun_heap3(nums, k):\n",
    "    nums = [-num for num in nums]\n",
    "    heap = []\n",
    "    #将nums中的元素插入堆中\n",
    "    for num in nums: \n",
    "        if len(heap) < k:\n",
    "            heapq.heappush(heap, num) #O(logk)\n",
    "        else:\n",
    "            if num > heap[0]:\n",
    "                heapq.heappop(heap) #O(logk)\n",
    "                heapq.heappush(heap,num) #O(logk)\n",
    "\n",
    "    result = sort([-num for num in heap]) #O(logk)\n",
    "    for i in range(k):\n",
    "        if i < k - 1:\n",
    "            print(result[i], end = \",\")\n",
    "        else:\n",
    "            print(result[i])\n",
    "if __name__ == '__main__':\n",
    "    nums = [5,4,3,2,6,1,88,33,22,107]\n",
    "    k_minimun_heap3(nums, 3)\n",
    "# your algorithm time complexity is :O(nlogk)"
   ]
  },
  {
   "cell_type": "markdown",
   "metadata": {},
   "source": [
    "## 问题 9：\n",
    "\n",
    "**选择问题**:给定一个包含n个未排序值的数组A和一个$k≤n$的整数, 返回A中最小的第k项。\n",
    "\n",
    "在课堂上, 学了一个简单的O(n)随机算法来解决选择问题。事实上还有一种更复杂的最坏情况下时间复杂度为$O(n)$ 的选择算法。假设使用一个黑盒过程来实现这个O(n)选择算法: 给定一个数组A、 $p < r$ 和 k,  $BB(A, p, r, k)$ 可以在$O(r−p+ 1)$时间内找到并报告$A[p..r]$中第k小的项的下标。假设你可以在线性时间内处理Partition过程。\n",
    "\n",
    "1. 请分析如何修改 Quicksork 算法可以使其最差情况下的运行时间为 $O(nlogn)$, 使用伪代码实现, 并分析为何修改后的版本最差情况的运行时间为$O(nlogn)$\n",
    "\n",
    "note: 伪代码中, 你可以直接调用用` BB(A,p,r,k)`这个函数用于表示在最坏情况下时间复杂度为$O(n)$的选择算法；\n",
    "\n",
    "\n",
    "\n",
    "2. 找到一个更好的算法报告数组A中的前k小的项, 使用伪代码表示你的算法, 并分析你算法的时间复杂度。\n",
    "\n",
    "举例：A=[13, 3, 7, 9, 11, 1, 15, 2, 8, 10, 12, 16, 14, 5], 当k=4时, 应该报告1, 2, 3, 4\n",
    "\n",
    "note： 最直观的方法就是先将数组A排序, 然后从左向右报告其前k项, 这样操作的时间复杂度为$O(nlogn)$. 调用用` BB(A,p,r,k)`设计一个算法使其报告无序数组A的前k项, 满足时间复杂度好于$\\Theta(nlogn)$, 并且当$k=\\sqrt{n}$时, 你设计的算法时间复杂度应该为$\\Theta(n)$.\n",
    "\n",
    "\n",
    "\n",
    "3. 给定一个大小为n的数组, 找到一个 时间复杂度为$O(n log k)$ 的算法, 该算法将A中的元素重新排序, 使它们被划分为k个部分, 每个部分的元素小于或等于下一部分的元素。假设n和k都是2的幂。使用伪代码表示你的算法, 并分析时间复杂度。\n",
    "\n",
    "e.g.:\n",
    "---\n",
    "数组：[1,  3,  5,  7,  9,  11,  13,  15,  2,  4,  6,  8,  10,  12,  16,  14], k=4, \n",
    "\n",
    "对应重新排序的数组为：[1,  3,  2,  4]  [7,  6,  5,  8]  [12,  11,  10,  9]  [13,  14,  16,  15]\n",
    "\n",
    "\n"
   ]
  },
  {
   "cell_type": "markdown",
   "metadata": {},
   "source": [
    "idea for 1：Quicksork 算法的最差情况是指当前数组已是有序，选出来的基准是数组的最值，以此每次分区比例1:(n-1)，这样导致递归深度的时间复杂度为$O(n)$，选择数组中值作为基准，提高分区的平衡性，使得递归次数的时间复杂度为$O(logn)$，每层递归又有时间复杂度为$O(n)$的操作，因此随机化的快排时间复杂度为$O(nlogn)$"
   ]
  },
  {
   "cell_type": "code",
   "execution_count": null,
   "metadata": {},
   "outputs": [],
   "source": [
    "# add your pseudo-code here\n",
    "import random\n",
    "\n",
    "def parition_random(A,p,r):\n",
    "    index = BB(A,p,r,(r-p) // 2)\n",
    "    swap(A[index],A[r])\n",
    "    privot = A[r]\n",
    "    i = p - 1\n",
    "    for j in range(p,r):\n",
    "        if A[j] <= privot:\n",
    "            i = i + 1\n",
    "            swap(A[i],A[j])\n",
    "    swap(A[i+1],A[r])\n",
    "    return i+1\n",
    "\n",
    "def quick_sort(A, p, r):\n",
    "    pi = parition_random(A,p,r)\n",
    "    quick_sort(A,p,pi-1)\n",
    "    quick_sort(A,pi+1,r)"
   ]
  },
  {
   "cell_type": "markdown",
   "metadata": {},
   "source": [
    "idea for 2：找到第k小的位置时间复杂度为$O(n)$，将前k小的项移至最左边时间复杂度为$θ(n)$，对前k项进行快排（采用取中值为基准）时间复杂度为$θ(klogk)$，所以该伪代码的时间复杂度是$O(n) + θ(n) + θ(klogk) $，由于$k≤n$，该伪代码的时间复杂度最大会是$O(n) + θ(n) + θ(nlogn) = θ(nlogn)$，\n",
    "\n",
    "当$k=\\sqrt{n}$，$θ(klogk) = θ(\\sqrt{n}log\\sqrt{n})$，而$θ(n) > θ(\\sqrt{n}log\\sqrt{n})$，该伪代码的时间复杂度是$O(n) + θ(n) + θ(\\sqrt{n}log\\sqrt{n}) = θ(n)$。"
   ]
  },
  {
   "cell_type": "code",
   "execution_count": null,
   "metadata": {},
   "outputs": [],
   "source": [
    "# add your pseudo-code here\n",
    "import random\n",
    "\n",
    "def parition_random(A,p,r):\n",
    "    index = BB(A,p,r,(r-p) // 2)\n",
    "    swap(A[index],A[r])\n",
    "    privot = A[r]\n",
    "    i = p - 1\n",
    "    for j in range(p,r):\n",
    "        if A[j] <= privot:\n",
    "            i = i + 1\n",
    "            swap(A[i],A[j])\n",
    "    swap(A[i+1],A[r])\n",
    "    return i+1\n",
    "\n",
    "def quick_sort(A, p, r):\n",
    "    pi = parition_random(A,p,r)\n",
    "    quick_sort(A,p,pi - 1)\n",
    "    quick_sort(A,pi + 1,r)\n",
    "\n",
    "# 将A前k小的元素移至第k项的左半边\n",
    "k_index = BB(A,0,len(A),k) #O(n)\n",
    "swap(A[k_index],A[-1])\n",
    "privot = A[-1]\n",
    "i = - 1\n",
    "for j in range(0,len(A)): #θ(n)\n",
    "    if A[j] <= privot:\n",
    "        i = i + 1\n",
    "        swap(A[i],A[j])\n",
    "swap(A[i+1],A[-1])\n",
    "\n",
    "#第k项的左半边进行排序\n",
    "quick_sort(A, 0, i + 1) #θ(klogk)\n"
   ]
  },
  {
   "cell_type": "markdown",
   "metadata": {},
   "source": [
    "idea for 3：每次找到第$n/k$项小的元素并将每组前$n/k$小的元素移至第$n/k$项左边区域的时间复杂度是$O(n)$，也就是每次快排时间复杂度是$O(n)$，快排的深度是$logk$，因此该伪代码的时间复杂度是$O(nlogk)$。"
   ]
  },
  {
   "cell_type": "code",
   "execution_count": null,
   "metadata": {},
   "outputs": [],
   "source": [
    "\n",
    "def parition_random(A,p,r,k):\n",
    "    index = BB(A,p,r,k) #O(n)\n",
    "    swap(A[index],A[r])\n",
    "    privot = A[r]\n",
    "    i = p - 1\n",
    "    for j in range(p,r): #O(n)\n",
    "        if A[j] <= privot:\n",
    "            i = i + 1\n",
    "            swap(A[i],A[j])\n",
    "    swap(A[i+1],A[r])\n",
    "    return i+1\n",
    "\n",
    "def quick_sort(A, p, r, k, res_list):  #快排深度为logk，O（nlogk）\n",
    "    pi = parition_random(A,p,r,k) #O(n)\n",
    "    res_list.append(A[p:pi])\n",
    "    #第k项的右半边进行分组\n",
    "    quick_sort(A,pi+1,r,k,res_list)\n",
    "\n",
    "res_list = []\n",
    "k_count = len(A) // k \n",
    "quick_sort(A,0,len(A)-1,k_count,res_list) #O(nlogk)"
   ]
  },
  {
   "cell_type": "markdown",
   "metadata": {},
   "source": [
    "## 问题 10：\n",
    "\n",
    "给定一个包含m个**字符串**的数组A, 其中不同的字符串可能有不同的字符数, 但数组中所有字符串的字符总数为n。设计一个算法在 $O(n)$ 时间内对字符串进行排序, 分析算法设计方案, 计算其时间复杂度, 并基于python编程实现该算法。请注意, 假设字符串只包含\"a\",\"b\",...,\"z\", \n",
    "\n",
    "\n",
    "\n",
    "举例1：数组A=[\"a\", \"da\", \"bde\", \"ab\", \"bc\", \"abdc\", \"cdba\"], 排序后的数组应该为：['a', 'ab', 'abdc', 'bc', 'bde', 'cdba', 'da']\n",
    "\n",
    "\n",
    "\n",
    "举例2：数组A=['ab', 'a', 'b', 'abc', 'ba', 'c'], 排序后的数组应该为：\n",
    "\n",
    "['a', 'ab', 'abc', 'b', 'ba', 'c']\n",
    "\n",
    "\n",
    "\n",
    "举例3：数组A=['aef', 'yzr', 'wr', 'ab', 'bhjc', 'lkabdc', 'pwcdba'],  排序后的数组应该为：['ab', 'aef', 'bhjc', 'lkabdc', 'pwcdba', 'wr', 'yzr']\n",
    "\n",
    "\n",
    "\n",
    "note：\n",
    "\n",
    "-  两个字符之间的比较可以考虑比较他们对应的ASCII码值；\n",
    "- python中可以使用`ord(\"a\")`返回字符 “a”对应的ASCII值"
   ]
  },
  {
   "cell_type": "markdown",
   "metadata": {},
   "source": [
    "idea:该题要求算法在 $O(n)$ 时间内对字符串进行排序,可以采用桶排序方法。\n",
    "\n",
    "根据每个字符串的最后一位字符，分桶排序（1至26号桶按照字符顺序对应\"a\"，\"b\"，……，\"z\"），而长度不够的字符串先存入0号桶，因此需要设置27个桶，再将分桶后的字符串按照桶的顺序存入原数组A（空桶直接跳过），接着逐位向前相同处理方式，最后得到的数组A即是排好序的结果。"
   ]
  },
  {
   "cell_type": "code",
   "execution_count": 20,
   "metadata": {},
   "outputs": [
    {
     "name": "stdout",
     "output_type": "stream",
     "text": [
      "['a', 'ab', 'abdc', 'bc', 'bde', 'cdba', 'da']\n",
      "['a', 'ab', 'abc', 'b', 'ba', 'c']\n",
      "['ab', 'aef', 'bhjc', 'lkabdc', 'pwcdba', 'wr', 'yzr']\n"
     ]
    }
   ],
   "source": [
    "# add your code here\n",
    "\n",
    "def sort_mstring(A):\n",
    "    max_len = max(len(s) for s in A)\n",
    "\n",
    "    for pos in range(max_len - 1, -1, -1):\n",
    "        #按照26个字符分组 + 长度不足为0号桶\n",
    "        buckets = [[] for _ in range(27)]\n",
    "\n",
    "        for s in A:\n",
    "            if pos < len(s):\n",
    "                idx = ord(s[pos]) - ord(\"a\") + 1\n",
    "            else:\n",
    "                idx = 0\n",
    "            buckets[idx].append(s)\n",
    "\n",
    "        A = [s for bucket in buckets for s in bucket] \n",
    "\n",
    "    return A\n",
    "\n",
    "A1 = [\"a\", \"da\", \"bde\", \"ab\", \"bc\", \"abdc\", \"cdba\"]\n",
    "print(sort_mstring(A1))\n",
    "\n",
    "A2 = ['ab', 'a', 'b', 'abc', 'ba', 'c']\n",
    "print(sort_mstring(A2))\n",
    "\n",
    "A3 = ['aef', 'yzr', 'wr', 'ab', 'bhjc', 'lkabdc', 'pwcdba']\n",
    "print(sort_mstring(A3))                \n",
    "    \n",
    "# your algorithm time complexity is :O(n)"
   ]
  }
 ],
 "metadata": {
  "kernelspec": {
   "display_name": "base",
   "language": "python",
   "name": "python3"
  },
  "language_info": {
   "codemirror_mode": {
    "name": "ipython",
    "version": 3
   },
   "file_extension": ".py",
   "mimetype": "text/x-python",
   "name": "python",
   "nbconvert_exporter": "python",
   "pygments_lexer": "ipython3",
   "version": "3.11.4"
  }
 },
 "nbformat": 4,
 "nbformat_minor": 2
}
